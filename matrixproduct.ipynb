{
 "cells": [
  {
   "cell_type": "code",
   "execution_count": 2,
   "metadata": {},
   "outputs": [
    {
     "name": "stdout",
     "output_type": "stream",
     "text": [
      "[[-1  2  3]\n",
      " [ 4 -5  6]\n",
      " [ 7  8 -9]]\n",
      "[[ 0  2  1]\n",
      " [ 0  2 -8]\n",
      " [ 2  9 -1]]\n"
     ]
    }
   ],
   "source": [
    "import numpy as np\n",
    "a_ndarray = np.array([[-1, 2, 3], [4, -5, 6], [7, 8, -9]])\n",
    "b_ndarray = np.array([[0, 2, 1], [0, 2, -8], [2, 9, -1]])\n",
    "print(a_ndarray)\n",
    "print(b_ndarray)"
   ]
  },
  {
   "cell_type": "markdown",
   "metadata": {},
   "source": [
    "# Problem 1. Matrix product is calculated manually\n",
    "\n",
    "Matrix can write by A =  $$\\begin{bmatrix} -1 & 2 & 3 \\\\ 4 & -5 & 6 \\\\ 7 & 8 & -9 \\end{bmatrix}$$ and B = $$\\begin{bmatrix} 0 & 2 & 1 \\\\ 0 & 2 & -8 \\\\ 2 & 9 & -1 \\end{bmatrix}$$\n",
    "\n",
    "The calculation process should be A+B, A-B, AxB, \n",
    "\n",
    "A+B = $$\\begin{bmatrix} -1+0 & 2+2 & 3+1 \\\\ 4+0 & -5+2 & 6+(-8) \\\\ 7+2 & 8+9 & -9+(-1) \\end{bmatrix} = \\begin{bmatrix} -1 & 4 & 4 \\\\ 4 & -3 & -2 \\\\ 9 & 17 & -10 \\end{bmatrix} $$\n",
    "\n",
    "A-B = $$\\begin{bmatrix} -1-0 & 2-2 & 3-1 \\\\ 4-0 & -5-2 & 6-(-8) \\\\ 7-2 & 8-9 & -9-(-1) \\end{bmatrix} = \\begin{bmatrix} -1 & 0 & 2 \\\\ 4 & -7 & -14 \\\\ 5 & -1 & -8 \\end{bmatrix} $$\n",
    "\n",
    "AXB = $$\\begin{bmatrix} (-1x0) + (2x0) + (3x2) & (-1x2)+(2x2)+(3x9) & (-1x1)+(2x-8)+(3x-1)\\\\(4x0)+(-5x0)+(6x2) & (4x2)+(-5x2)+(6x9) & (4x1)+(-5x-8 )+(6x-1) \\\\ (7x0)+(8x0)+(-9x2) & (7x2)+(8x2)+(-9x9) & (7x1)+(8x-8)+(9-1) \\end{bmatrix} = \\begin{bmatrix} 6 & 29 & -20 \\\\ 12 & 52 & 38 \\\\ -18 & -51 & -48 \\end{bmatrix} $$"
   ]
  },
  {
   "cell_type": "markdown",
   "metadata": {},
   "source": [
    "# Problem 2. Calculated by numpy"
   ]
  },
  {
   "cell_type": "code",
   "execution_count": 3,
   "metadata": {},
   "outputs": [
    {
     "data": {
      "text/plain": [
       "array([[  6,  29, -20],\n",
       "       [ 12,  52,  38],\n",
       "       [-18, -51, -48]])"
      ]
     },
     "execution_count": 3,
     "metadata": {},
     "output_type": "execute_result"
    }
   ],
   "source": [
    "np.matmul(a_ndarray,b_ndarray)"
   ]
  },
  {
   "cell_type": "code",
   "execution_count": 4,
   "metadata": {},
   "outputs": [
    {
     "data": {
      "text/plain": [
       "array([[  6,  29, -20],\n",
       "       [ 12,  52,  38],\n",
       "       [-18, -51, -48]])"
      ]
     },
     "execution_count": 4,
     "metadata": {},
     "output_type": "execute_result"
    }
   ],
   "source": [
    "np.dot(a_ndarray,b_ndarray)"
   ]
  },
  {
   "cell_type": "markdown",
   "metadata": {},
   "source": [
    "# Problem 3. Implementation of calcualtion of a certain element"
   ]
  },
  {
   "cell_type": "code",
   "execution_count": 79,
   "metadata": {},
   "outputs": [
    {
     "name": "stdout",
     "output_type": "stream",
     "text": [
      "[[-1  2  3]\n",
      " [ 4 -5  6]\n",
      " [ 7  8 -9]]\n",
      "[[ 0  2  1]\n",
      " [ 0  2 -8]\n",
      " [ 2  9 -1]]\n",
      "[[  6  29 -20]\n",
      " [ 12  52  38]\n",
      " [-18 -51 -48]]\n"
     ]
    }
   ],
   "source": [
    "print(a_ndarray)\n",
    "print(b_ndarray)\n",
    "result=[]\n",
    "for i in range(3):\n",
    "    for j in range(3):\n",
    "        sum_i=0\n",
    "        for k in range(3):\n",
    "            sum_i=sum_i+(a_ndarray[i,k]*b_ndarray[k,j])\n",
    "        result.append(sum_i)\n",
    "result_matrix=np.array(result)\n",
    "print(result_matrix.reshape(3,3))"
   ]
  },
  {
   "cell_type": "markdown",
   "metadata": {},
   "source": [
    "# Problem 4. function perform matrix multiplication"
   ]
  },
  {
   "cell_type": "code",
   "execution_count": 90,
   "metadata": {},
   "outputs": [
    {
     "name": "stdout",
     "output_type": "stream",
     "text": [
      "[[  6  29 -20]\n",
      " [ 12  52  38]\n",
      " [-18 -51 -48]]\n"
     ]
    }
   ],
   "source": [
    "def multiply_matrix(a,b):\n",
    "    result=[]\n",
    "    for i in range(3):\n",
    "        for j in range(3):\n",
    "            sum_i=0\n",
    "            for k in range(3):\n",
    "                sum_i+=(a_ndarray[i,k]*b_ndarray[k,j])\n",
    "            result.append(sum_i)\n",
    "    result_matrix=np.array(result).reshape(3,3)\n",
    "    return result_matrix\n",
    "\n",
    "print(multiply_matrix(a_ndarray,b_ndarray))"
   ]
  },
  {
   "cell_type": "markdown",
   "metadata": {},
   "source": [
    "# Problem 5. error handling"
   ]
  },
  {
   "cell_type": "code",
   "execution_count": 120,
   "metadata": {},
   "outputs": [
    {
     "name": "stdout",
     "output_type": "stream",
     "text": [
      "The shape a and b is not in same dimension, the column of matrix a must same with row of matrix b\n",
      "None\n"
     ]
    }
   ],
   "source": [
    "def multiply_matrix(a,b):\n",
    "    if a.shape[0] == b.shape[1] :\n",
    "        result=[]\n",
    "        for i in range(3):\n",
    "            for j in range(3):\n",
    "                sum_i=0\n",
    "                for k in range(3):\n",
    "                    sum_i+=(a_ndarray[i,k]*b_ndarray[k,j])\n",
    "                result.append(sum_i)\n",
    "        result_matrix=np.array(result).reshape(3,3)\n",
    "        return result_matrix\n",
    "    else :\n",
    "        return print(\"The shape a and b is not in same dimension, the column of matrix a must same with row of matrix b\")\n",
    "\n",
    "#Here i try to make new a_ndarray with different dimension, and we will try to get the result for error handling\n",
    "a_ndarray = np.array([[-1, 2, 3], [4, -5, 6]])\n",
    "\n",
    "print(multiply_matrix(a_ndarray,b_ndarray))"
   ]
  },
  {
   "cell_type": "markdown",
   "metadata": {},
   "source": [
    "# Problem 6. Transpose matrix"
   ]
  },
  {
   "cell_type": "code",
   "execution_count": 103,
   "metadata": {},
   "outputs": [
    {
     "name": "stdout",
     "output_type": "stream",
     "text": [
      "This is the actual matrix = [[-1  2  3]\n",
      " [ 4 -5  6]]\n",
      "This is the transpose matrix using np.transpose = [[-1  4]\n",
      " [ 2 -5]\n",
      " [ 3  6]]\n",
      "This is the transpose matrix using .T = [[-1  4]\n",
      " [ 2 -5]\n",
      " [ 3  6]]\n"
     ]
    }
   ],
   "source": [
    "print(\"This is the actual matrix = {}\".format(a_ndarray))\n",
    "print(\"This is the transpose matrix using np.transpose = {}\".format(np.transpose(a_ndarray)))\n",
    "print(\"This is the transpose matrix using .T = {}\".format(a_ndarray.T))"
   ]
  },
  {
   "cell_type": "code",
   "execution_count": null,
   "metadata": {},
   "outputs": [],
   "source": []
  }
 ],
 "metadata": {
  "kernelspec": {
   "display_name": "Python 3",
   "language": "python",
   "name": "python3"
  },
  "language_info": {
   "codemirror_mode": {
    "name": "ipython",
    "version": 3
   },
   "file_extension": ".py",
   "mimetype": "text/x-python",
   "name": "python",
   "nbconvert_exporter": "python",
   "pygments_lexer": "ipython3",
   "version": "3.8.3"
  }
 },
 "nbformat": 4,
 "nbformat_minor": 4
}
