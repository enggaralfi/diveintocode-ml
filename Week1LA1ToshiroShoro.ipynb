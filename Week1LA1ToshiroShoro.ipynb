{
 "cells": [
  {
   "cell_type": "code",
   "execution_count": 23,
   "metadata": {},
   "outputs": [
    {
     "name": "stdout",
     "output_type": "stream",
     "text": [
      "Day 1, Toshiro get 1 of rices\n",
      "Day 2, Toshiro get 2 of rices\n",
      "Day 3, Toshiro get 4 of rices\n",
      "Day 4, Toshiro get 8 of rices\n",
      "Day 5, Toshiro get 16 of rices\n",
      "Day 6, Toshiro get 32 of rices\n",
      "Day 7, Toshiro get 64 of rices\n",
      "Day 8, Toshiro get 128 of rices\n",
      "Day 9, Toshiro get 256 of rices\n",
      "Day 10, Toshiro get 512 of rices\n",
      "Day 11, Toshiro get 1024 of rices\n",
      "Day 12, Toshiro get 2048 of rices\n",
      "Day 13, Toshiro get 4096 of rices\n",
      "Day 14, Toshiro get 8192 of rices\n",
      "Day 15, Toshiro get 16384 of rices\n",
      "Day 16, Toshiro get 32768 of rices\n",
      "Day 17, Toshiro get 65536 of rices\n",
      "Day 18, Toshiro get 131072 of rices\n",
      "Day 19, Toshiro get 262144 of rices\n",
      "Day 20, Toshiro get 524288 of rices\n",
      "Day 21, Toshiro get 1048576 of rices\n",
      "Day 22, Toshiro get 2097152 of rices\n",
      "Day 23, Toshiro get 4194304 of rices\n",
      "Day 24, Toshiro get 8388608 of rices\n",
      "Day 25, Toshiro get 16777216 of rices\n",
      "Day 26, Toshiro get 33554432 of rices\n",
      "Day 27, Toshiro get 67108864 of rices\n",
      "Day 28, Toshiro get 134217728 of rices\n",
      "Day 29, Toshiro get 268435456 of rices\n",
      "Day 30, Toshiro get 536870912 of rices\n",
      "Day 31, Toshiro get 1073741824 of rices\n",
      "Day 32, Toshiro get 2147483648 of rices\n",
      "Day 33, Toshiro get 4294967296 of rices\n",
      "Day 34, Toshiro get 8589934592 of rices\n",
      "Day 35, Toshiro get 17179869184 of rices\n",
      "Day 36, Toshiro get 34359738368 of rices\n",
      "Day 37, Toshiro get 68719476736 of rices\n",
      "Day 38, Toshiro get 137438953472 of rices\n",
      "Day 39, Toshiro get 274877906944 of rices\n",
      "Day 40, Toshiro get 549755813888 of rices\n",
      "Day 41, Toshiro get 1099511627776 of rices\n",
      "Day 42, Toshiro get 2199023255552 of rices\n",
      "Day 43, Toshiro get 4398046511104 of rices\n",
      "Day 44, Toshiro get 8796093022208 of rices\n",
      "Day 45, Toshiro get 17592186044416 of rices\n",
      "Day 46, Toshiro get 35184372088832 of rices\n",
      "Day 47, Toshiro get 70368744177664 of rices\n",
      "Day 48, Toshiro get 140737488355328 of rices\n",
      "Day 49, Toshiro get 281474976710656 of rices\n",
      "Day 50, Toshiro get 562949953421312 of rices\n",
      "Day 51, Toshiro get 1125899906842624 of rices\n",
      "Day 52, Toshiro get 2251799813685248 of rices\n",
      "Day 53, Toshiro get 4503599627370496 of rices\n",
      "Day 54, Toshiro get 9007199254740992 of rices\n",
      "Day 55, Toshiro get 18014398509481984 of rices\n",
      "Day 56, Toshiro get 36028797018963968 of rices\n",
      "Day 57, Toshiro get 72057594037927936 of rices\n",
      "Day 58, Toshiro get 144115188075855872 of rices\n",
      "Day 59, Toshiro get 288230376151711744 of rices\n",
      "Day 60, Toshiro get 576460752303423488 of rices\n",
      "Day 61, Toshiro get 1152921504606846976 of rices\n",
      "Day 62, Toshiro get 2305843009213693952 of rices\n",
      "Day 63, Toshiro get 4611686018427387904 of rices\n",
      "Day 64, Toshiro get 9223372036854775808 of rices\n",
      "Day 65, Toshiro get 18446744073709551616 of rices\n",
      "Day 66, Toshiro get 36893488147419103232 of rices\n",
      "Day 67, Toshiro get 73786976294838206464 of rices\n",
      "Day 68, Toshiro get 147573952589676412928 of rices\n",
      "Day 69, Toshiro get 295147905179352825856 of rices\n",
      "Day 70, Toshiro get 590295810358705651712 of rices\n",
      "Day 71, Toshiro get 1180591620717411303424 of rices\n",
      "Day 72, Toshiro get 2361183241434822606848 of rices\n",
      "Day 73, Toshiro get 4722366482869645213696 of rices\n",
      "Day 74, Toshiro get 9444732965739290427392 of rices\n",
      "Day 75, Toshiro get 18889465931478580854784 of rices\n",
      "Day 76, Toshiro get 37778931862957161709568 of rices\n",
      "Day 77, Toshiro get 75557863725914323419136 of rices\n",
      "Day 78, Toshiro get 151115727451828646838272 of rices\n",
      "Day 79, Toshiro get 302231454903657293676544 of rices\n",
      "Day 80, Toshiro get 604462909807314587353088 of rices\n",
      "Day 81, Toshiro get 1208925819614629174706176 of rices\n",
      "Day 82, Toshiro get 2417851639229258349412352 of rices\n",
      "Day 83, Toshiro get 4835703278458516698824704 of rices\n",
      "Day 84, Toshiro get 9671406556917033397649408 of rices\n",
      "Day 85, Toshiro get 19342813113834066795298816 of rices\n",
      "Day 86, Toshiro get 38685626227668133590597632 of rices\n",
      "Day 87, Toshiro get 77371252455336267181195264 of rices\n",
      "Day 88, Toshiro get 154742504910672534362390528 of rices\n",
      "Day 89, Toshiro get 309485009821345068724781056 of rices\n",
      "Day 90, Toshiro get 618970019642690137449562112 of rices\n",
      "Day 91, Toshiro get 1237940039285380274899124224 of rices\n",
      "Day 92, Toshiro get 2475880078570760549798248448 of rices\n",
      "Day 93, Toshiro get 4951760157141521099596496896 of rices\n",
      "Day 94, Toshiro get 9903520314283042199192993792 of rices\n",
      "Day 95, Toshiro get 19807040628566084398385987584 of rices\n",
      "Day 96, Toshiro get 39614081257132168796771975168 of rices\n",
      "Day 97, Toshiro get 79228162514264337593543950336 of rices\n",
      "Day 98, Toshiro get 158456325028528675187087900672 of rices\n",
      "Day 99, Toshiro get 316912650057057350374175801344 of rices\n",
      "Day 100, Toshiro get 633825300114114700748351602688 of rices\n",
      "Toshiro get the total rices is : 1267650600228229401496703205375 rices\n"
     ]
    }
   ],
   "source": [
    "\"\"\"\"\n",
    "The problem of Toshiro Shoro is like:\n",
    "day 1 the rice is 1\n",
    "day 2 the rice is 2\n",
    "day 3 the rice is 4\n",
    "day 4 the rice is 8\n",
    "day n the rice is 2^(n-1)\n",
    "so the mathematical formula of this case just to get the number of rice in \"n\" day with foemula 2^(n-1) \n",
    "\"\"\"\n",
    "number_of_rice=[] #make list for number of rice every day \n",
    "day_toshiro=[]\n",
    "for i in range(1,101):\n",
    "    day_toshiro.append(i) #record day\n",
    "    number_of_rice.append(2**(i-1)) #record rice in the day n\n",
    "    print(\"Day {}, Toshiro get {} of rices\".format(day_toshiro[i-1],number_of_rice[i-1])) # show rice per day\n",
    "total_rice=sum(number_of_rice) #get total rice in 100 day\n",
    "print(\"Toshiro get the total rices is : {} rices\".format(total_rice)) # show total rice in 100 day"
   ]
  },
  {
   "cell_type": "code",
   "execution_count": 21,
   "metadata": {},
   "outputs": [
    {
     "data": {
      "image/png": "[encoded data removed]",
      "text/plain": [
       "<Figure size 432x288 with 1 Axes>"
      ]
     },
     "metadata": {
      "needs_background": "light"
     },
     "output_type": "display_data"
    }
   ],
   "source": [
    "#Display the graph of Toshiro rice per day\n",
    "import matplotlib.pyplot as plt\n",
    "%matplotlib inline\n",
    "plt.title(\"Toshiro's rice per day\")\n",
    "plt.xlabel(\"day\")\n",
    "plt.ylabel(\"Number of rice\")\n",
    "plt.tick_params(labelsize=12)\n",
    "plt.plot(day_toshiro,number_of_rice,color='red',marker='x') \n",
    "plt.show()"
   ]
  },
  {
   "cell_type": "markdown",
   "metadata": {},
   "source": [
    "# Problem 2. Number of rice grains other than 100th day"
   ]
  },
  {
   "cell_type": "code",
   "execution_count": 39,
   "metadata": {},
   "outputs": [
    {
     "data": {
      "image/png": "[encoded data removed]",
      "text/plain": [
       "<Figure size 432x288 with 1 Axes>"
      ]
     },
     "metadata": {
      "needs_background": "light"
     },
     "output_type": "display_data"
    },
    {
     "name": "stdout",
     "output_type": "stream",
     "text": [
      "list grains is [1, 2, 4, 8, 16, 32, 64, 128, 256, 512], and the total grains is 1023\n"
     ]
    }
   ],
   "source": [
    "def compute_sorori_shinzaemon(day=100):\n",
    "    \"\"\"\n",
    "    A function to verify the anecdotes of rice by Soroshi Shinzaemon. Calculate the number of rice grains per day.\n",
    "\n",
    "    Parameteres\n",
    "    --------------\n",
    "    day: int\n",
    "        Days to get rice (default: 100)\n",
    "\n",
    "    Returns\n",
    "    --------------\n",
    "    list_n_grains : list\n",
    "        List of the number of rice you get on one day (the length of the list is equal to day)\n",
    "    list_total_grains : list\n",
    "        A list of the total number of rice to be obtained by a certain day (the length of the list is equal to day)\n",
    "    \"\"\"\n",
    "    # Write the code here. pass is an instruction that means do nothing.\n",
    "    list_n_grains=[]\n",
    "    list_total_grains=[]\n",
    "    for i in range(day):\n",
    "        list_n_grains.append(2**(i))\n",
    "    list_total_grains=sum(list_n_grains)\n",
    "    #Display the graph of Toshiro rice per day\n",
    "    #import matplotlib.pyplot as plt\n",
    "    %matplotlib inline\n",
    "    plt.title(\"Toshiro's rice per day\")\n",
    "    plt.xlabel(\"day\")\n",
    "    plt.ylabel(\"Number of rice\")\n",
    "    plt.tick_params(labelsize=12)\n",
    "    plt.plot(list_n_grains,color='red',marker='x') \n",
    "    plt.show()\n",
    "    pass\n",
    "    return list_n_grains, list_total_grains\n",
    "list_n_grains, list_total_grains = compute_sorori_shinzaemon(day=10)\n",
    "print(\"list grains is {}, and the total grains is {}\".format(list_n_grains,list_total_grains))\n",
    "\n",
    "\n"
   ]
  },
  {
   "cell_type": "markdown",
   "metadata": {},
   "source": [
    "# Problem 3. How many days can rice live"
   ]
  },
  {
   "cell_type": "code",
   "execution_count": 43,
   "metadata": {},
   "outputs": [
    {
     "name": "stdout",
     "output_type": "stream",
     "text": [
      "They can live 1.023 days\n"
     ]
    }
   ],
   "source": [
    "\"\"\"\n",
    "I dont know what is exacly your mean. In my mind this case is jus like that\n",
    "a. We have rice (Number of rice Grains)\n",
    "b. Number of people\n",
    "c. Days of live\n",
    "In this case, imagine that the number of rice grains is 1000, then the number of people is 10. \n",
    "The days of live is like how many rice for 1 people, example 1 people need 10 rice per day. So the days \n",
    "of live is just c=a/b (c=1000/100 = 10 days). So I will make the function just like that.\n",
    "\"\"\"\n",
    "\n",
    "def days_of_live_calc(number_of_rice=list_total_grains,number_of_people=10): #make function\n",
    "    rice_per_people_per_day=100 #estimation rice per people per day\n",
    "    days_of_live=number_of_rice/(number_of_people*rice_per_people_per_day) #Mathematical formula to calculate it\n",
    "    pass\n",
    "    return days_of_live #return the\n",
    "print(\"They can live {} days\".format(days_of_live_calc()))"
   ]
  },
  {
   "cell_type": "code",
   "execution_count": null,
   "metadata": {},
   "outputs": [],
   "source": []
  }
 ],
 "metadata": {
  "kernelspec": {
   "display_name": "Python 3",
   "language": "python",
   "name": "python3"
  },
  "language_info": {
   "codemirror_mode": {
    "name": "ipython",
    "version": 3
   },
   "file_extension": ".py",
   "mimetype": "text/x-python",
   "name": "python",
   "nbconvert_exporter": "python",
   "pygments_lexer": "ipython3",
   "version": "3.8.3"
  }
 },
 "nbformat": 4,
 "nbformat_minor": 4
}
