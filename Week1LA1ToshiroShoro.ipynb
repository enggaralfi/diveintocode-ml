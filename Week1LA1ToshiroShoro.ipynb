{
 "cells": [
  {
   "cell_type": "code",
   "execution_count": null,
   "metadata": {},
   "outputs": [],
   "source": [
    "\"\"\"\"\n",
    "The problem of Toshiro Shoro is like:\n",
    "day 1 the rice is 1\n",
    "day 2 the rice is 2\n",
    "day 3 the rice is 4\n",
    "day 4 the rice is 8\n",
    "day n the rice is 2^(n-1)\n",
    "so the mathematical formula of this case just to get the number of rice in \"n\" day with foemula 2^(n-1) \n",
    "\"\"\"\n",
    "\n"
   ]
  }
 ],
 "metadata": {
  "kernelspec": {
   "display_name": "Python 3",
   "language": "python",
   "name": "python3"
  },
  "language_info": {
   "codemirror_mode": {
    "name": "ipython",
    "version": 3
   },
   "file_extension": ".py",
   "mimetype": "text/x-python",
   "name": "python",
   "nbconvert_exporter": "python",
   "pygments_lexer": "ipython3",
   "version": "3.8.3"
  }
 },
 "nbformat": 4,
 "nbformat_minor": 4
}
