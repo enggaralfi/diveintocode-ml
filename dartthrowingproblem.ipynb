{
 "cells": [
  {
   "cell_type": "code",
   "execution_count": 2,
   "metadata": {},
   "outputs": [
    {
     "name": "stdout",
     "output_type": "stream",
     "text": [
      "['800万', '4人', '40才', '男']\n"
     ]
    }
   ],
   "source": [
    "test = [\"800万\", \"4人\", \"40才\", \"男\"]\n",
    "print(test)"
   ]
  },
  {
   "cell_type": "code",
   "execution_count": 6,
   "metadata": {},
   "outputs": [
    {
     "name": "stdout",
     "output_type": "stream",
     "text": [
      "{'annual income': '8 million', 'family size': '4', 'age': '40 years old', 'sex': 'male'}\n"
     ]
    }
   ],
   "source": [
    "test = {\"annual income\": \"8 million\", \"family size\": \"4\", \"age\": \"40 years old\", \"sex\": \"male\"}\n",
    "print(test)"
   ]
  },
  {
   "cell_type": "code",
   "execution_count": 8,
   "metadata": {},
   "outputs": [],
   "source": [
    "hist_worldcup = {\"Brazil\":5, \"Germany\":4, \"Italy\":4, \"Argentina\":2, \"France\":2, \"England\": 1}"
   ]
  },
  {
   "cell_type": "code",
   "execution_count": 12,
   "metadata": {},
   "outputs": [
    {
     "data": {
      "text/plain": [
       "dict_keys(['Brazil', 'Germany', 'Italy', 'Argentina', 'France', 'England'])"
      ]
     },
     "execution_count": 12,
     "metadata": {},
     "output_type": "execute_result"
    }
   ],
   "source": [
    "hist_worldcup.keys()"
   ]
  },
  {
   "cell_type": "code",
   "execution_count": 13,
   "metadata": {},
   "outputs": [
    {
     "data": {
      "text/plain": [
       "dict_values([5, 4, 4, 2, 2, 1])"
      ]
     },
     "execution_count": 13,
     "metadata": {},
     "output_type": "execute_result"
    }
   ],
   "source": [
    "hist_worldcup.values()"
   ]
  },
  {
   "cell_type": "code",
   "execution_count": 14,
   "metadata": {},
   "outputs": [
    {
     "data": {
      "text/plain": [
       "dict_items([('Brazil', 5), ('Germany', 4), ('Italy', 4), ('Argentina', 2), ('France', 2), ('England', 1)])"
      ]
     },
     "execution_count": 14,
     "metadata": {},
     "output_type": "execute_result"
    }
   ],
   "source": [
    "hist_worldcup.items()"
   ]
  },
  {
   "cell_type": "code",
   "execution_count": 15,
   "metadata": {},
   "outputs": [
    {
     "name": "stdout",
     "output_type": "stream",
     "text": [
      "Brazil 5\n",
      "Germany 4\n",
      "Italy 4\n",
      "Argentina 2\n",
      "France 2\n",
      "England 1\n"
     ]
    }
   ],
   "source": [
    "for key, value in hist_worldcup.items():\n",
    "    print(key, value)"
   ]
  },
  {
   "cell_type": "markdown",
   "metadata": {},
   "source": [
    "# Problem 1. choosing a dart mat"
   ]
  },
  {
   "cell_type": "code",
   "execution_count": 27,
   "metadata": {},
   "outputs": [
    {
     "name": "stdout",
     "output_type": "stream",
     "text": [
      "4\n"
     ]
    }
   ],
   "source": [
    "import numpy as np\n",
    "\n",
    "dart=np.random.choice(6)\n",
    "print(dart)"
   ]
  },
  {
   "cell_type": "markdown",
   "metadata": {},
   "source": [
    "# Problem 2. Throw dart and record"
   ]
  },
  {
   "cell_type": "code",
   "execution_count": 31,
   "metadata": {},
   "outputs": [
    {
     "name": "stdout",
     "output_type": "stream",
     "text": [
      "[5, 4, 4, 1, 5, 1, 5, 0, 0, 0] [3, 5, 4, 2, 0, 0, 3, 1, 3, 0]\n"
     ]
    }
   ],
   "source": [
    "dimension_all=range(10)\n",
    "x_coordinate=[]\n",
    "y_coordinate=[]\n",
    "for _ in range(10):\n",
    "    x_coordinate.append(np.random.choice(6))\n",
    "    y_coordinate.append(np.random.choice(6))\n",
    "print(x_coordinate,y_coordinate)"
   ]
  },
  {
   "cell_type": "code",
   "execution_count": 37,
   "metadata": {},
   "outputs": [
    {
     "name": "stdout",
     "output_type": "stream",
     "text": [
      "-0.0471761114264838 -0.11810875047061785\n"
     ]
    }
   ],
   "source": [
    "mean = [0,0]\n",
    "cov = [[0.01,0],[0,0.01]]\n",
    "var_x,var_y = np.random.multivariate_normal(mean,cov)\n",
    "print(var_x,var_y)"
   ]
  },
  {
   "cell_type": "markdown",
   "metadata": {},
   "source": [
    "# Problem 3. throw a lot of dart"
   ]
  },
  {
   "cell_type": "code",
   "execution_count": 44,
   "metadata": {},
   "outputs": [],
   "source": [
    "throw_dice_x={0:0}\n",
    "throw_dice_y={0:0}\n",
    "for i in range(1000):\n",
    "    throw_dice_x[i],throw_dice_y[i]=np.random.multivariate_normal(mean,cov)\n",
    "#print(throw_dice_x, throw_dice_y)"
   ]
  },
  {
   "cell_type": "markdown",
   "metadata": {},
   "source": [
    "# Problem 4. Drawing the position"
   ]
  },
  {
   "cell_type": "code",
   "execution_count": 47,
   "metadata": {},
   "outputs": [],
   "source": [
    "import matplotlib.path as mpath\n",
    "import matplotlib.patches as mpatches\n",
    "import matplotlib.pyplot as plt\n",
    "\n",
    "mpatches.Circle(throw_dice_x,radius=5)\n",
    "plt.show()"
   ]
  },
  {
   "cell_type": "code",
   "execution_count": 48,
   "metadata": {},
   "outputs": [
    {
     "data": {
      "image/png": "[encoded data removed]",
      "text/plain": [
       "<Figure size 432x288 with 1 Axes>"
      ]
     },
     "metadata": {
      "needs_background": "light"
     },
     "output_type": "display_data"
    }
   ],
   "source": [
    "def wise(v):\n",
    "    if v == 1:\n",
    "        return \"CCW\"\n",
    "    else:\n",
    "        return \"CW\"\n",
    "\n",
    "\n",
    "def make_circle(r):\n",
    "    t = np.arange(0, np.pi * 2.0, 0.01)\n",
    "    t = t.reshape((len(t), 1))\n",
    "    x = r * np.cos(t)\n",
    "    y = r * np.sin(t)\n",
    "    return np.hstack((x, y))\n",
    "\n",
    "Path = mpath.Path\n",
    "\n",
    "fig, ax = plt.subplots()\n",
    "\n",
    "inside_vertices = make_circle(0.5)\n",
    "outside_vertices = make_circle(1.0)\n",
    "codes = np.ones(\n",
    "    len(inside_vertices), dtype=mpath.Path.code_type) * mpath.Path.LINETO\n",
    "codes[0] = mpath.Path.MOVETO\n",
    "\n",
    "for i, (inside, outside) in enumerate(((1, 1), (1, -1), (-1, 1), (-1, -1))):\n",
    "    # Concatenate the inside and outside subpaths together, changing their\n",
    "    # order as needed\n",
    "    vertices = np.concatenate((outside_vertices[::outside],\n",
    "                               inside_vertices[::inside]))\n",
    "    # Shift the path\n",
    "    vertices[:, 0] += i * 2.5\n",
    "    # The codes will be all \"LINETO\" commands, except for \"MOVETO\"s at the\n",
    "    # beginning of each subpath\n",
    "    all_codes = np.concatenate((codes, codes))\n",
    "    # Create the Path object\n",
    "    path = mpath.Path(vertices, all_codes)\n",
    "    # Add plot it\n",
    "    patch = mpatches.PathPatch(path, facecolor='#885500', edgecolor='black')\n",
    "    ax.add_patch(patch)\n",
    "\n",
    "    ax.annotate(\"Outside %s,\\nInside %s\" % (wise(outside), wise(inside)),\n",
    "                (i * 2.5, -1.5), va=\"top\", ha=\"center\")\n",
    "\n",
    "ax.set_xlim(-2, 10)\n",
    "ax.set_ylim(-3, 2)\n",
    "ax.set_title('Mmm, donuts!')\n",
    "ax.set_aspect(1.0)\n",
    "plt.show()\n"
   ]
  },
  {
   "cell_type": "code",
   "execution_count": null,
   "metadata": {},
   "outputs": [],
   "source": []
  }
 ],
 "metadata": {
  "kernelspec": {
   "display_name": "Python 3",
   "language": "python",
   "name": "python3"
  },
  "language_info": {
   "codemirror_mode": {
    "name": "ipython",
    "version": 3
   },
   "file_extension": ".py",
   "mimetype": "text/x-python",
   "name": "python",
   "nbconvert_exporter": "python",
   "pygments_lexer": "ipython3",
   "version": "3.8.3"
  }
 },
 "nbformat": 4,
 "nbformat_minor": 4
}
