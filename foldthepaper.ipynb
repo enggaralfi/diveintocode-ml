{
 "cells": [
  {
   "cell_type": "code",
   "execution_count": 73,
   "metadata": {},
   "outputs": [
    {
     "name": "stdout",
     "output_type": "stream",
     "text": [
      "Thickness 0.00016 meter\n",
      "Thickness of the paper with 43 time folding\n",
      "Thinckess after folding 43 times is 703687441.77664 meter\n",
      "this is thickness using for\n",
      "Folded by 43, the thickness is 703687441.77664 meter\n"
     ]
    }
   ],
   "source": [
    "\"\"\"\n",
    "Code to calculate the thickness when the paper is folded once\n",
    "\"\"\"\n",
    "THICKNESS = 0.00008\n",
    "folded_thickness = THICKNESS*2\n",
    "print(\"Thickness {} meter\".format(folded_thickness))\n",
    "print(\"Thickness of the paper with 43 time folding\")\n",
    "folded_thickness_43 = THICKNESS*2**43\n",
    "print(\"Thinckess after folding 43 times is {} meter\".format(folded_thickness_43))\n",
    "print(\"this is thickness using for\")\n",
    "folded_fold=THICKNESS\n",
    "for i in range(43):\n",
    "    folded_fold+=folded_fold\n",
    "print(\"Folded by {}, the thickness is {} meter\".format(i+1,folded_fold))"
   ]
  },
  {
   "cell_type": "code",
   "execution_count": 21,
   "metadata": {},
   "outputs": [
    {
     "name": "stdout",
     "output_type": "stream",
     "text": [
      "thickness = 703687.44 Km\n"
     ]
    }
   ],
   "source": [
    "#Convert meters to kilometers and display with two decimal places\n",
    "print(\"thickness = {:.2f} Km\".format(folded_fold/1000))"
   ]
  },
  {
   "cell_type": "markdown",
   "metadata": {},
   "source": [
    "# Problem 3 Created using statement"
   ]
  },
  {
   "cell_type": "code",
   "execution_count": 41,
   "metadata": {},
   "outputs": [
    {
     "name": "stdout",
     "output_type": "stream",
     "text": [
      "2 power 3 is 8\n",
      "2 power 5 is 32\n"
     ]
    }
   ],
   "source": [
    "#2^3 and 2^5\n",
    "def powerof(x,y):\n",
    "    result=1\n",
    "    for i in range(y):\n",
    "        result*=x\n",
    "    return result\n",
    "print(\"2 power 3 is {}\".format(powerof(2,3)))\n",
    "print(\"2 power 5 is {}\".format(powerof(2,5)))"
   ]
  },
  {
   "cell_type": "markdown",
   "metadata": {},
   "source": [
    "# Power 4. Comparison of calculation time"
   ]
  },
  {
   "cell_type": "code",
   "execution_count": 45,
   "metadata": {},
   "outputs": [
    {
     "name": "stdout",
     "output_type": "stream",
     "text": [
      "2 power 3 is 32\n",
      "time : 0.00043582916259765625[s]\n"
     ]
    }
   ],
   "source": [
    "import time\n",
    "start = time.time()\n",
    "#code for power using for statement\n",
    "def powerof(x,y):\n",
    "    result=1\n",
    "    for i in range(y):\n",
    "        result*=x\n",
    "    return result\n",
    "print(\"2 power 5 is {}\".format(powerof(2,5)))\n",
    "#the end of the test\n",
    "elapsed_time = time.time() - start\n",
    "print(\"time : {}[s]\".format(elapsed_time))"
   ]
  },
  {
   "cell_type": "code",
   "execution_count": 52,
   "metadata": {},
   "outputs": [
    {
     "name": "stdout",
     "output_type": "stream",
     "text": [
      "2 power 5 is 32\n",
      "time : 0.00016999244689941406[s]\n"
     ]
    }
   ],
   "source": [
    "import time\n",
    "start = time.time()\n",
    "#code for power using **\n",
    "result=2**5\n",
    "print(\"2 power 5 is {}\".format(result))\n",
    "#the end of the test\n",
    "elapsed_time = time.time() - start\n",
    "print(\"time : {}[s]\".format(elapsed_time))"
   ]
  },
  {
   "cell_type": "code",
   "execution_count": 53,
   "metadata": {},
   "outputs": [
    {
     "name": "stdout",
     "output_type": "stream",
     "text": [
      "2 power 5 is 1267650600228229401496703205376\n",
      "time : 0.0004150867462158203[s]\n"
     ]
    }
   ],
   "source": [
    "import time\n",
    "start = time.time()\n",
    "#code for power using for statement\n",
    "def powerof(x,y):\n",
    "    result=1\n",
    "    for i in range(y):\n",
    "        result*=x\n",
    "    return result\n",
    "print(\"2 power 5 is {}\".format(powerof(2,100)))\n",
    "#the end of the test\n",
    "elapsed_time = time.time() - start\n",
    "print(\"time : {}[s]\".format(elapsed_time))"
   ]
  },
  {
   "cell_type": "code",
   "execution_count": 54,
   "metadata": {},
   "outputs": [
    {
     "name": "stdout",
     "output_type": "stream",
     "text": [
      "2 power 5 is 1267650600228229401496703205376\n",
      "time : 0.0005221366882324219[s]\n"
     ]
    }
   ],
   "source": [
    "import time\n",
    "start = time.time()\n",
    "#code for power using **\n",
    "result=2**100\n",
    "print(\"2 power 5 is {}\".format(result))\n",
    "#the end of the test\n",
    "elapsed_time = time.time() - start\n",
    "print(\"time : {}[s]\".format(elapsed_time))"
   ]
  },
  {
   "cell_type": "code",
   "execution_count": 56,
   "metadata": {},
   "outputs": [
    {
     "name": "stdout",
     "output_type": "stream",
     "text": [
      "2 power 5 is 1267650600228229401496703205376\n",
      "time : 0.0002658367156982422[s]\n",
      "CPU times: user 284 µs, sys: 76 µs, total: 360 µs\n",
      "Wall time: 342 µs\n"
     ]
    }
   ],
   "source": [
    "%%time\n",
    "import time\n",
    "start = time.time()\n",
    "#code for power using **\n",
    "result=2**100\n",
    "print(\"2 power 5 is {}\".format(result))\n",
    "#the end of the test\n",
    "elapsed_time = time.time() - start\n",
    "print(\"time : {}[s]\".format(elapsed_time))"
   ]
  },
  {
   "cell_type": "code",
   "execution_count": 58,
   "metadata": {},
   "outputs": [
    {
     "name": "stdout",
     "output_type": "stream",
     "text": [
      "2 power 5 is 1267650600228229401496703205376\n",
      "time : 7.295608520507812e-05[s]\n",
      "CPU times: user 306 µs, sys: 101 µs, total: 407 µs\n",
      "Wall time: 346 µs\n"
     ]
    }
   ],
   "source": [
    "%%time\n",
    "import time\n",
    "start = time.time()\n",
    "#code for power using for statement\n",
    "def powerof(x,y):\n",
    "    result=1\n",
    "    for i in range(y):\n",
    "        result*=x\n",
    "    return result\n",
    "print(\"2 power 5 is {}\".format(powerof(2,100)))\n",
    "#the end of the test\n",
    "elapsed_time = time.time() - start\n",
    "print(\"time : {}[s]\".format(elapsed_time))"
   ]
  },
  {
   "cell_type": "code",
   "execution_count": 64,
   "metadata": {},
   "outputs": [
    {
     "name": "stdout",
     "output_type": "stream",
     "text": [
      "Thickness 0.00016 meter\n",
      "Thickness of the paper with 43 time folding\n",
      "Thinckess after folding 43 times is 703687441.77664 meter\n",
      "CPU times: user 2 µs, sys: 3 µs, total: 5 µs\n",
      "Wall time: 4.29 µs\n",
      "this is thickness using for\n",
      "Folded by 43, the thickness is 703687441.77664 meter\n",
      "CPU times: user 2 µs, sys: 1e+03 ns, total: 3 µs\n",
      "Wall time: 3.1 µs\n"
     ]
    }
   ],
   "source": [
    "\"\"\"\n",
    "Code to calculate the thickness when the paper is folded once\n",
    "\"\"\"\n",
    "THICKNESS = 0.00008\n",
    "folded_thickness = THICKNESS*2\n",
    "print(\"Thickness {} meter\".format(folded_thickness))\n",
    "print(\"Thickness of the paper with 43 time folding\")\n",
    "folded_thickness_43 = THICKNESS*2**43\n",
    "print(\"Thinckess after folding 43 times is {} meter\".format(folded_thickness_43))\n",
    "%time\n",
    "print(\"this is thickness using for\")\n",
    "folded_fold=THICKNESS\n",
    "for i in range(43):\n",
    "    folded_fold+=folded_fold\n",
    "print(\"Folded by {}, the thickness is {} meter\".format(i+1,folded_fold))\n",
    "%time"
   ]
  },
  {
   "cell_type": "markdown",
   "metadata": {},
   "source": [
    "# Problem 5. Save to list"
   ]
  },
  {
   "cell_type": "code",
   "execution_count": 71,
   "metadata": {},
   "outputs": [
    {
     "data": {
      "text/plain": [
       "44"
      ]
     },
     "execution_count": 71,
     "metadata": {},
     "output_type": "execute_result"
    }
   ],
   "source": [
    "\"\"\"\n",
    "Code to calculate the thickness when the paper is folded once\n",
    "\"\"\"\n",
    "THICKNESS = 0.00008\n",
    "folded_list=[] #empty list\n",
    "folded_list.append(THICKNESS) #add value before folding list\n",
    "folded_fold=THICKNESS\n",
    "for i in range(43):\n",
    "    folded_fold+=folded_fold\n",
    "    folded_list.append(folded_fold) #The value when n turns are added to the list in the for sentence.\n",
    "len(folded_list) #confirm that the list containts 44 values"
   ]
  },
  {
   "cell_type": "markdown",
   "metadata": {},
   "source": [
    "# Problem 6. Display the line graph"
   ]
  },
  {
   "cell_type": "code",
   "execution_count": 72,
   "metadata": {},
   "outputs": [
    {
     "data": {
      "image/png": "[encoded data removed]",
      "text/plain": [
       "<Figure size 432x288 with 1 Axes>"
      ]
     },
     "metadata": {
      "needs_background": "light"
     },
     "output_type": "display_data"
    }
   ],
   "source": [
    "#Display the graph. With title and axis label name.\n",
    "import matplotlib.pyplot as plt\n",
    "%matplotlib inline\n",
    "plt.title(\"thickness of folded paper\")\n",
    "plt.xlabel(\"number of folds\")\n",
    "plt.ylabel(\"thickness[m]\")\n",
    "plt.plot(folded_list) # Put the variable name of the list in place of \"List name\"\n",
    "plt.show()"
   ]
  },
  {
   "cell_type": "markdown",
   "metadata": {},
   "source": [
    "# Problem 7. Graph optimization"
   ]
  },
  {
   "cell_type": "code",
   "execution_count": 79,
   "metadata": {},
   "outputs": [
    {
     "data": {
      "image/png": "[encoded data removed]",
      "text/plain": [
       "<Figure size 432x288 with 1 Axes>"
      ]
     },
     "metadata": {
      "needs_background": "light"
     },
     "output_type": "display_data"
    }
   ],
   "source": [
    "\"\"\"\n",
    "Display a red line graph.\n",
    "\"\"\"\n",
    "plt.title(\"thickness of folded paper\")\n",
    "plt.xlabel(\"number of folds\")\n",
    "plt.ylabel(\"thickness[m]\")\n",
    "plt.plot(folded_list, color='red',marker='x')\n",
    "plt.show()"
   ]
  },
  {
   "cell_type": "code",
   "execution_count": 80,
   "metadata": {},
   "outputs": [
    {
     "data": {
      "image/png": "[encoded data removed]",
      "text/plain": [
       "<Figure size 432x288 with 1 Axes>"
      ]
     },
     "metadata": {
      "needs_background": "light"
     },
     "output_type": "display_data"
    }
   ],
   "source": [
    "\"\"\"\n",
    "Display a red line graph.\n",
    "\"\"\"\n",
    "plt.title(\"Thickness of folded paper\")\n",
    "plt.xlabel(\"number of folds\")\n",
    "plt.ylabel(\"thickness[m]\")\n",
    "plt.plot(folded_list, color='yellow', marker='*', linestyle='dashed')\n",
    "plt.show()"
   ]
  },
  {
   "cell_type": "code",
   "execution_count": 82,
   "metadata": {},
   "outputs": [
    {
     "data": {
      "image/png": "[encoded data removed]",
      "text/plain": [
       "<Figure size 432x288 with 1 Axes>"
      ]
     },
     "metadata": {
      "needs_background": "light"
     },
     "output_type": "display_data"
    }
   ],
   "source": [
    "\"\"\"\n",
    "Display a red line graph.\n",
    "\"\"\"\n",
    "plt.title(\"thickness of folded paper\")\n",
    "plt.xlabel(\"number of folds\")\n",
    "plt.ylabel(\"thickness[m]\")\n",
    "plt.tick_params(labelsize=20)\n",
    "plt.plot(folded_list, color='green', marker='^', linestyle='dashed')\n",
    "plt.show()"
   ]
  },
  {
   "cell_type": "code",
   "execution_count": null,
   "metadata": {},
   "outputs": [],
   "source": []
  }
 ],
 "metadata": {
  "kernelspec": {
   "display_name": "Python 3",
   "language": "python",
   "name": "python3"
  },
  "language_info": {
   "codemirror_mode": {
    "name": "ipython",
    "version": 3
   },
   "file_extension": ".py",
   "mimetype": "text/x-python",
   "name": "python",
   "nbconvert_exporter": "python",
   "pygments_lexer": "ipython3",
   "version": "3.8.3"
  }
 },
 "nbformat": 4,
 "nbformat_minor": 4
}
