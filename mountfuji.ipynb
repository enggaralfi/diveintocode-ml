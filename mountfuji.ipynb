{
 "cells": [
  {
   "cell_type": "markdown",
   "metadata": {},
   "source": [
    "# Minimum number of fold to rach mt Fuji"
   ]
  },
  {
   "cell_type": "code",
   "execution_count": 3,
   "metadata": {},
   "outputs": [
    {
     "name": "stdout",
     "output_type": "stream",
     "text": [
      "Folding 0, thickness 0.0008 meter\n",
      "Folding 1, thickness 0.0016 meter\n",
      "Folding 2, thickness 0.0032 meter\n",
      "Folding 3, thickness 0.0064 meter\n",
      "Folding 4, thickness 0.0128 meter\n",
      "Folding 5, thickness 0.0256 meter\n",
      "Folding 6, thickness 0.0512 meter\n",
      "Folding 7, thickness 0.1024 meter\n",
      "Folding 8, thickness 0.2048 meter\n",
      "Folding 9, thickness 0.4096 meter\n",
      "Folding 10, thickness 0.8192 meter\n",
      "Folding 11, thickness 1.6384 meter\n",
      "Folding 12, thickness 3.2768 meter\n",
      "Folding 13, thickness 6.5536 meter\n",
      "Folding 14, thickness 13.1072 meter\n",
      "Folding 15, thickness 26.2144 meter\n",
      "Folding 16, thickness 52.4288 meter\n",
      "Folding 17, thickness 104.8576 meter\n",
      "Folding 18, thickness 209.7152 meter\n",
      "Folding 19, thickness 419.4304 meter\n",
      "Folding 20, thickness 838.8608 meter\n",
      "Folding 21, thickness 1677.7216 meter\n",
      "Folding 22, thickness 3355.4432 meter\n",
      "Folding 23, thickness 6710.8864 meter\n"
     ]
    }
   ],
   "source": [
    "THICKNESS=0.0008\n",
    "i=0\n",
    "folding=0\n",
    "while folding <= 3776:\n",
    "    folding=THICKNESS*(2**i)\n",
    "    print(\"Folding {}, thickness {} meter\".format(i,folding))\n",
    "    i+=1"
   ]
  },
  {
   "cell_type": "markdown",
   "metadata": {},
   "source": [
    "# Problem 2. creating a function"
   ]
  },
  {
   "cell_type": "code",
   "execution_count": 11,
   "metadata": {},
   "outputs": [
    {
     "name": "stdout",
     "output_type": "stream",
     "text": [
      "The distance between earth and alpha centaury is 5.902958103587057e+16 m, total folding is 67 time\n"
     ]
    }
   ],
   "source": [
    "def folding_paper(t_0=0.0008,fold_reac=3776):\n",
    "    i=0\n",
    "    folding=0\n",
    "    while folding <= fold_reac:\n",
    "        folding=t_0*(2**i)\n",
    "        i+=1\n",
    "    return folding, i\n",
    "\"\"\"\n",
    "The clusest star not a sun in this world is Alpha centaury \n",
    "(https://skyandtelescope.org/astronomy-resources/far-closest-star/)\n",
    "4.24 light years away = 4.0113e+16 meter\n",
    "\"\"\"\n",
    "folded,n=folding_paper(0.0008,4.01e+16)\n",
    "print(\"The distance between earth and alpha centaury is {} m, total folding is {} time\".format(folded,n))"
   ]
  },
  {
   "cell_type": "markdown",
   "metadata": {},
   "source": [
    "# Problem 3. required paper length\n",
    "\n",
    "\\[L = \\frac{\\pi t_{0}}{6}(2^n + 4)(2^n - 1)\\]"
   ]
  },
  {
   "cell_type": "code",
   "execution_count": 14,
   "metadata": {},
   "outputs": [
    {
     "name": "stdout",
     "output_type": "stream",
     "text": [
      "The paper length needed is 117844211321.70963\n"
     ]
    }
   ],
   "source": [
    "\"\"\"Creating function to calculate minimum paper length\n",
    "The equation used is [L = \\frac{\\pi t_{0}}{6}(2^n + 4)(2^n - 1)]\n",
    "the algorithm is\n",
    "input: t_0, folded to reach\n",
    "out: paper length\n",
    "\"\"\"\n",
    "def paper_length(t_0=0.0008,fold_reach=3776):\n",
    "    i=0\n",
    "    folding=0\n",
    "    while folding <= fold_reach:\n",
    "        folding=t_0*(2**i)\n",
    "        i+=1\n",
    "    L=((3.14*float(t_0))/6.)*(2.**float(i)+4.)*(2**float(i)-1.)\n",
    "    return L\n",
    "print(\"The paper length needed is {}\".format(paper_length()))"
   ]
  },
  {
   "cell_type": "code",
   "execution_count": null,
   "metadata": {},
   "outputs": [],
   "source": []
  }
 ],
 "metadata": {
  "kernelspec": {
   "display_name": "Python 3",
   "language": "python",
   "name": "python3"
  },
  "language_info": {
   "codemirror_mode": {
    "name": "ipython",
    "version": 3
   },
   "file_extension": ".py",
   "mimetype": "text/x-python",
   "name": "python",
   "nbconvert_exporter": "python",
   "pygments_lexer": "ipython3",
   "version": "3.8.3"
  }
 },
 "nbformat": 4,
 "nbformat_minor": 4
}
