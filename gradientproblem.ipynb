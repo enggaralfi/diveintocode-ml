{
 "cells": [
  {
   "cell_type": "markdown",
   "metadata": {},
   "source": [
    "# Problem 1. Linear function"
   ]
  },
  {
   "cell_type": "code",
   "execution_count": 108,
   "metadata": {},
   "outputs": [
    {
     "name": "stdout",
     "output_type": "stream",
     "text": [
      "(1001,)\n"
     ]
    }
   ],
   "source": [
    "import numpy as np\n",
    "x_ndarray = np.arange(-50, 50.1, 0.1)\n",
    "y_ndarray = 0.5 * x_ndarray - 1.\n",
    "print(x_ndarray.shape)\n"
   ]
  },
  {
   "cell_type": "markdown",
   "metadata": {},
   "source": [
    "# Problem 2. Array combination"
   ]
  },
  {
   "cell_type": "code",
   "execution_count": 74,
   "metadata": {},
   "outputs": [
    {
     "name": "stdout",
     "output_type": "stream",
     "text": [
      "[[-50.   -26.  ]\n",
      " [-49.9  -25.95]\n",
      " [-49.8  -25.9 ]\n",
      " ...\n",
      " [ 49.8   23.9 ]\n",
      " [ 49.9   23.95]\n",
      " [ 50.    24.  ]]\n"
     ]
    }
   ],
   "source": [
    "combine_x_y = np.concatenate((x_ndarray.reshape(1001,1) , y_ndarray.reshape(1001,1)) ,axis=1)\n",
    "combine_x_y_res = combine_x_y.reshape(1001,2)\n",
    "print(combine_x_y_res)"
   ]
  },
  {
   "cell_type": "markdown",
   "metadata": {},
   "source": [
    "# Problem 3. find the gradient\n",
    "\n",
    "$$ gradient = \\frac{\\Delta x}{\\Delta y}$$"
   ]
  },
  {
   "cell_type": "code",
   "execution_count": 107,
   "metadata": {},
   "outputs": [
    {
     "name": "stdout",
     "output_type": "stream",
     "text": [
      "(1000, 1)\n"
     ]
    }
   ],
   "source": [
    "diff_x=[]\n",
    "diff_y=[]\n",
    "for i in range(100):\n",
    "    diff_x.append(x_ndarray[i]- x_ndarray[i-1])\n",
    "    diff_y.append(y_ndarray[i]- y_ndarray[i-1])\n",
    "#print(diff_y)\n",
    "delta_x_y = combine_x_y_res[1:] - combine_x_y_res[:-1]\n",
    "#print(delta_x_y[:,[1]])\n",
    "gradient=delta_x_y[:,[0]]/delta_x_y[:,[1]]\n",
    "print(gradient.shape)"
   ]
  },
  {
   "cell_type": "markdown",
   "metadata": {},
   "source": [
    "# Problem 4. Draw graph"
   ]
  },
  {
   "cell_type": "code",
   "execution_count": 111,
   "metadata": {},
   "outputs": [
    {
     "data": {
      "text/plain": [
       "[<matplotlib.lines.Line2D at 0x7f800bc41820>]"
      ]
     },
     "execution_count": 111,
     "metadata": {},
     "output_type": "execute_result"
    },
    {
     "data": {
      "image/png": "[encoded data removed]",
      "text/plain": [
       "<Figure size 432x288 with 1 Axes>"
      ]
     },
     "metadata": {
      "needs_background": "light"
     },
     "output_type": "display_data"
    }
   ],
   "source": [
    "import matplotlib.pyplot as plt\n",
    "plt.plot(gradient,x_ndarray[:-1])"
   ]
  },
  {
   "cell_type": "markdown",
   "metadata": {},
   "source": [
    "# Problem 5. functionalization"
   ]
  },
  {
   "cell_type": "code",
   "execution_count": 139,
   "metadata": {},
   "outputs": [],
   "source": [
    "def compute_gradient(function, x_range=(-50, 50.1, 0.1)):\n",
    "    \"\"\"\n",
    "    Calculate the slope using the amount of change.\n",
    "\n",
    "    Parameters\n",
    "    ----------------\n",
    "    function : function\n",
    "    The function you want, the one that returns the ndarray of y when you put the ndarray of x.\n",
    "    x_range: tuple\n",
    "    Specify the range in the same way as the argument of np.arange().\n",
    "\n",
    "    Returns\n",
    "    ----------------\n",
    "    array_xy : ndarray, shape(n, 2)\n",
    "    A combination of x and y. n depends on x_range。\n",
    "    gradient : ndarray, shape(n-1,)\n",
    "    Function gradient. One less element to make the difference\n",
    "    \"\"\"\n",
    "    ndarray_x = np.arange(*x_range)\n",
    "    ndarray_y = function(ndarray_x)\n",
    "    ndarray_x_y = np.concatenate((ndarray_x.reshape(1001,1) , ndarray_y.reshape(1001,1)) ,axis=1).reshape(1001,2)\n",
    "    array_xy = ndarray_x_y\n",
    "    d_x_y = ndarray_x_y[1:] - ndarray_x_y[:-1]\n",
    "    gradient=d_x_y[:,[0]]/d_x_y[:,[1]]\n",
    "    pass\n",
    "    return array_xy, gradient\n",
    "\n",
    "def function1(array_x):\n",
    "    array_y=array_x**2\n",
    "    pass\n",
    "    return array_y\n",
    "\n",
    "def function2(array_x):\n",
    "    array_y=(2*array_x**2) + 2**array_x\n",
    "    pass\n",
    "    return array_y\n",
    "\n",
    "def function3(array_x):\n",
    "    array_y=np.sin(array_x ** 0.5)\n",
    "    pass\n",
    "    return array_y\n",
    "\n",
    "array_xy, gradient = compute_gradient(function1)\n",
    "\n",
    "#print(array_xy)\n",
    "#print(gradient)"
   ]
  },
  {
   "cell_type": "markdown",
   "metadata": {},
   "source": [
    "# Problem 6. find the minimum value"
   ]
  },
  {
   "cell_type": "code",
   "execution_count": 146,
   "metadata": {},
   "outputs": [
    {
     "name": "stdout",
     "output_type": "stream",
     "text": [
      "minimum value of the gradient is -10.000000000141966\n",
      "index of the minimum value is 499\n"
     ]
    }
   ],
   "source": [
    "print(\"minimum value of the gradient is {}\".format(gradient.min()))\n",
    "print(\"index of the minimum value is {}\".format(gradient.argmin()))"
   ]
  },
  {
   "cell_type": "code",
   "execution_count": null,
   "metadata": {},
   "outputs": [],
   "source": []
  }
 ],
 "metadata": {
  "kernelspec": {
   "display_name": "Python 3",
   "language": "python",
   "name": "python3"
  },
  "language_info": {
   "codemirror_mode": {
    "name": "ipython",
    "version": 3
   },
   "file_extension": ".py",
   "mimetype": "text/x-python",
   "name": "python",
   "nbconvert_exporter": "python",
   "pygments_lexer": "ipython3",
   "version": "3.8.3"
  }
 },
 "nbformat": 4,
 "nbformat_minor": 4
}
